{
 "cells": [
  {
   "cell_type": "code",
   "execution_count": 1,
   "metadata": {},
   "outputs": [],
   "source": [
    "import os\n",
    "os.environ['KMP_DUPLICATE_LIB_OK'] = 'TRUE'"
   ]
  },
  {
   "cell_type": "code",
   "execution_count": 2,
   "metadata": {},
   "outputs": [
    {
     "name": "stdout",
     "output_type": "stream",
     "text": [
      "True\n",
      "1\n",
      "NVIDIA GeForce RTX 4060 Laptop GPU\n"
     ]
    }
   ],
   "source": [
    "import pandas as pd\n",
    "import torch\n",
    "from transformers import BertTokenizer\n",
    "from sklearn.model_selection import train_test_split\n",
    "from transformers import BertModel\n",
    "import torch.nn as nn\n",
    "from torch.cuda.amp import autocast, GradScaler\n",
    "from torch.utils.data import DataLoader, TensorDataset, WeightedRandomSampler\n",
    "import torch.optim as optim\n",
    "import numpy as np\n",
    "from sklearn.metrics import accuracy_score\n",
    "import matplotlib.pyplot as plt\n",
    "import multiprocessing\n",
    "\n",
    "device = torch.device(\"cuda\" if torch.cuda.is_available() else \"cpu\")\n",
    "print(torch.cuda.is_available())  # Should print True if CUDA is detected\n",
    "print(torch.cuda.device_count())  # Should return the number of GPUs available\n",
    "print(torch.cuda.get_device_name(0))  # Should print the name of the GPU (e.g., NVIDIA GeForce RTX 4060)\n"
   ]
  },
  {
   "cell_type": "code",
   "execution_count": 3,
   "metadata": {},
   "outputs": [
    {
     "name": "stderr",
     "output_type": "stream",
     "text": [
      "c:\\Users\\ashvi\\anaconda3\\Lib\\site-packages\\transformers\\tokenization_utils_base.py:1601: FutureWarning: `clean_up_tokenization_spaces` was not set. It will be set to `True` by default. This behavior will be depracted in transformers v4.45, and will be then set to `False` by default. For more details check this issue: https://github.com/huggingface/transformers/issues/31884\n",
      "  warnings.warn(\n"
     ]
    }
   ],
   "source": [
    "# Load your dataset\n",
    "data = pd.read_csv(\"Modified_Data.csv\")\n",
    "\n",
    "# Split into train and validation sets\n",
    "train_data, val_data = train_test_split(data, test_size=0.2, random_state=42)\n",
    "\n",
    "# Initialize the tokenizer\n",
    "tokenizer = BertTokenizer.from_pretrained(\"bert-base-uncased\")"
   ]
  },
  {
   "cell_type": "code",
   "execution_count": 4,
   "metadata": {},
   "outputs": [],
   "source": [
    "# Tokenize data\n",
    "def tokenize_data(data):\n",
    "    return tokenizer(\n",
    "        data[\"crimeaditionalinfo\"].tolist(),\n",
    "        padding=True,\n",
    "        truncation=True,\n",
    "        max_length=128,\n",
    "        return_tensors=\"pt\"\n",
    "    )\n",
    "\n",
    "# Tokenize both train and validation data\n",
    "train_encodings = tokenize_data(train_data)\n",
    "val_encodings = tokenize_data(val_data)\n"
   ]
  },
  {
   "cell_type": "code",
   "execution_count": 5,
   "metadata": {},
   "outputs": [],
   "source": [
    "# Convert labels to tensors\n",
    "train_labels_category = torch.tensor(train_data[\"category\"].values)\n",
    "train_labels_sub_category = torch.tensor(train_data[\"sub_category\"].values)\n",
    "\n",
    "val_labels_category = torch.tensor(val_data[\"category\"].values)\n",
    "val_labels_sub_category = torch.tensor(val_data[\"sub_category\"].values)"
   ]
  },
  {
   "cell_type": "code",
   "execution_count": 6,
   "metadata": {},
   "outputs": [],
   "source": [
    "# Convert labels to long data type\n",
    "train_labels_category = train_labels_category.long()\n",
    "train_labels_sub_category = train_labels_sub_category.long()\n",
    "\n",
    "val_labels_category = val_labels_category.long()\n",
    "val_labels_sub_category = val_labels_sub_category.long()"
   ]
  },
  {
   "cell_type": "code",
   "execution_count": 7,
   "metadata": {},
   "outputs": [
    {
     "name": "stdout",
     "output_type": "stream",
     "text": [
      "20\n"
     ]
    }
   ],
   "source": [
    "#For gradient accumulation \n",
    "accumulation_steps = 8\n",
    "batch_size = 8\n",
    "\n",
    "#Optimizations for memory\n",
    "num_workers = min(20, multiprocessing.cpu_count())  # Number of CPU workers for data loading\n",
    "use_mixed_precision = True  # Toggle mixed precision as needed\n",
    "print(num_workers)"
   ]
  },
  {
   "cell_type": "code",
   "execution_count": 8,
   "metadata": {},
   "outputs": [],
   "source": [
    "# Create datasets and data loaders\n",
    "train_dataset = TensorDataset(\n",
    "    train_encodings['input_ids'], train_encodings['attention_mask'],\n",
    "    train_labels_category, train_labels_sub_category\n",
    ")\n",
    "train_loader = DataLoader(train_dataset, batch_size=8, shuffle=True)\n",
    "\n",
    "# Similar setup for the validation loader\n",
    "val_dataset = TensorDataset(\n",
    "    val_encodings['input_ids'], val_encodings['attention_mask'],\n",
    "    val_labels_category, val_labels_sub_category\n",
    ")\n",
    "val_loader = DataLoader(val_dataset, batch_size=batch_size)\n"
   ]
  },
  {
   "cell_type": "code",
   "execution_count": 9,
   "metadata": {},
   "outputs": [],
   "source": [
    "class MultiTaskModel(nn.Module):\n",
    "    def __init__(self, model_name, num_labels_task1, num_labels_task2):\n",
    "        super(MultiTaskModel, self).__init__()\n",
    "        self.bert = BertModel.from_pretrained(model_name)\n",
    "        self.classifier_task1 = nn.Linear(self.bert.config.hidden_size, num_labels_task1)\n",
    "        self.classifier_task2 = nn.Linear(self.bert.config.hidden_size, num_labels_task2)\n",
    "\n",
    "    def forward(self, input_ids, attention_mask, labels_task1=None, labels_task2=None):\n",
    "        outputs = self.bert(input_ids=input_ids, attention_mask=attention_mask)\n",
    "        pooled_output = outputs.pooler_output\n",
    "        logits_task1 = self.classifier_task1(pooled_output)\n",
    "        logits_task2 = self.classifier_task2(pooled_output)\n",
    "\n",
    "        loss = None\n",
    "        if labels_task1 is not None and labels_task2 is not None:\n",
    "            loss_fn = nn.CrossEntropyLoss()\n",
    "            loss_task1 = loss_fn(logits_task1, labels_task1)\n",
    "            loss_task2 = loss_fn(logits_task2, labels_task2)\n",
    "            loss = loss_task1 + loss_task2\n",
    "\n",
    "        return {\"loss\": loss, \"logits_task1\": logits_task1, \"logits_task2\": logits_task2}"
   ]
  },
  {
   "cell_type": "code",
   "execution_count": 10,
   "metadata": {},
   "outputs": [
    {
     "name": "stdout",
     "output_type": "stream",
     "text": [
      "Unique classes in 'category': 15\n",
      "Unique classes in 'sub_category': 35\n"
     ]
    },
    {
     "data": {
      "text/plain": [
       "MultiTaskModel(\n",
       "  (bert): BertModel(\n",
       "    (embeddings): BertEmbeddings(\n",
       "      (word_embeddings): Embedding(30522, 768, padding_idx=0)\n",
       "      (position_embeddings): Embedding(512, 768)\n",
       "      (token_type_embeddings): Embedding(2, 768)\n",
       "      (LayerNorm): LayerNorm((768,), eps=1e-12, elementwise_affine=True)\n",
       "      (dropout): Dropout(p=0.1, inplace=False)\n",
       "    )\n",
       "    (encoder): BertEncoder(\n",
       "      (layer): ModuleList(\n",
       "        (0-11): 12 x BertLayer(\n",
       "          (attention): BertAttention(\n",
       "            (self): BertSdpaSelfAttention(\n",
       "              (query): Linear(in_features=768, out_features=768, bias=True)\n",
       "              (key): Linear(in_features=768, out_features=768, bias=True)\n",
       "              (value): Linear(in_features=768, out_features=768, bias=True)\n",
       "              (dropout): Dropout(p=0.1, inplace=False)\n",
       "            )\n",
       "            (output): BertSelfOutput(\n",
       "              (dense): Linear(in_features=768, out_features=768, bias=True)\n",
       "              (LayerNorm): LayerNorm((768,), eps=1e-12, elementwise_affine=True)\n",
       "              (dropout): Dropout(p=0.1, inplace=False)\n",
       "            )\n",
       "          )\n",
       "          (intermediate): BertIntermediate(\n",
       "            (dense): Linear(in_features=768, out_features=3072, bias=True)\n",
       "            (intermediate_act_fn): GELUActivation()\n",
       "          )\n",
       "          (output): BertOutput(\n",
       "            (dense): Linear(in_features=3072, out_features=768, bias=True)\n",
       "            (LayerNorm): LayerNorm((768,), eps=1e-12, elementwise_affine=True)\n",
       "            (dropout): Dropout(p=0.1, inplace=False)\n",
       "          )\n",
       "        )\n",
       "      )\n",
       "    )\n",
       "    (pooler): BertPooler(\n",
       "      (dense): Linear(in_features=768, out_features=768, bias=True)\n",
       "      (activation): Tanh()\n",
       "    )\n",
       "  )\n",
       "  (classifier_task1): Linear(in_features=768, out_features=15, bias=True)\n",
       "  (classifier_task2): Linear(in_features=768, out_features=35, bias=True)\n",
       ")"
      ]
     },
     "execution_count": 10,
     "metadata": {},
     "output_type": "execute_result"
    }
   ],
   "source": [
    "num_labels_task1 = 15\n",
    "num_labels_task2 = 35\n",
    "\n",
    "print(f\"Unique classes in 'category': {num_labels_task1}\")\n",
    "print(f\"Unique classes in 'sub_category': {num_labels_task2}\")\n",
    "\n",
    "# Initialize the model with dynamic class counts\n",
    "model = MultiTaskModel(\"bert-base-uncased\", num_labels_task1=num_labels_task1, num_labels_task2=num_labels_task2)\n",
    "model.to(device)"
   ]
  },
  {
   "cell_type": "code",
   "execution_count": 11,
   "metadata": {},
   "outputs": [],
   "source": [
    "# Assume `train_labels_category` is a tensor of class labels\n",
    "class_counts = torch.bincount(train_labels_category)\n",
    "class_weights = 1.0 / class_counts  # Inverse of class frequencies\n",
    "sample_weights = class_weights[train_labels_category]\n",
    "\n",
    "# Use WeightedRandomSampler\n",
    "sampler = WeightedRandomSampler(weights=sample_weights, num_samples=len(sample_weights), replacement=True)\n",
    "\n",
    "# Create the DataLoader with sampler\n",
    "train_dataset = TensorDataset(train_encodings['input_ids'], train_encodings['attention_mask'],\n",
    "                              train_labels_category, train_labels_sub_category)\n",
    "train_loader = DataLoader(train_dataset, batch_size=batch_size, sampler=sampler)\n"
   ]
  },
  {
   "cell_type": "code",
   "execution_count": 12,
   "metadata": {},
   "outputs": [],
   "source": [
    "optimizer = optim.AdamW(model.parameters(), lr=2e-5)"
   ]
  },
  {
   "cell_type": "code",
   "execution_count": 13,
   "metadata": {},
   "outputs": [],
   "source": [
    "# Initialize lists to store metrics\n",
    "train_accuracies_task1 = []\n",
    "train_accuracies_task2 = []\n",
    "val_accuracies_task1 = []\n",
    "val_accuracies_task2 = []"
   ]
  },
  {
   "cell_type": "code",
   "execution_count": 14,
   "metadata": {},
   "outputs": [
    {
     "name": "stderr",
     "output_type": "stream",
     "text": [
      "C:\\Users\\ashvi\\AppData\\Local\\Temp\\ipykernel_28460\\677476163.py:1: FutureWarning: `torch.cuda.amp.GradScaler(args...)` is deprecated. Please use `torch.amp.GradScaler('cuda', args...)` instead.\n",
      "  scaler = GradScaler() if use_mixed_precision else None\n"
     ]
    }
   ],
   "source": [
    "scaler = GradScaler() if use_mixed_precision else None"
   ]
  },
  {
   "cell_type": "code",
   "execution_count": 15,
   "metadata": {},
   "outputs": [],
   "source": [
    "train_loader = DataLoader(train_dataset, batch_size=batch_size, shuffle=True, num_workers=num_workers, pin_memory=True)\n",
    "val_loader = DataLoader(val_dataset, batch_size=batch_size, shuffle=False, num_workers=num_workers, pin_memory=True)"
   ]
  },
  {
   "cell_type": "code",
   "execution_count": 16,
   "metadata": {},
   "outputs": [
    {
     "name": "stderr",
     "output_type": "stream",
     "text": [
      "C:\\Users\\ashvi\\AppData\\Local\\Temp\\ipykernel_28460\\322483422.py:16: FutureWarning: `torch.cuda.amp.autocast(args...)` is deprecated. Please use `torch.amp.autocast('cuda', args...)` instead.\n",
      "  with autocast():\n",
      "C:\\Users\\ashvi\\AppData\\Local\\Temp\\ipykernel_28460\\322483422.py:68: FutureWarning: `torch.cuda.amp.autocast(args...)` is deprecated. Please use `torch.amp.autocast('cuda', args...)` instead.\n",
      "  with autocast():\n"
     ]
    },
    {
     "name": "stdout",
     "output_type": "stream",
     "text": [
      "Epoch 1 - Training Loss: 2.3736\n",
      "Task 1 - Training Accuracy: 0.7731, Validation Accuracy: 0.7921\n",
      "Task 2 - Training Accuracy: 0.4947, Validation Accuracy: 0.5600\n"
     ]
    },
    {
     "name": "stderr",
     "output_type": "stream",
     "text": [
      "C:\\Users\\ashvi\\AppData\\Local\\Temp\\ipykernel_28460\\322483422.py:16: FutureWarning: `torch.cuda.amp.autocast(args...)` is deprecated. Please use `torch.amp.autocast('cuda', args...)` instead.\n",
      "  with autocast():\n",
      "C:\\Users\\ashvi\\AppData\\Local\\Temp\\ipykernel_28460\\322483422.py:68: FutureWarning: `torch.cuda.amp.autocast(args...)` is deprecated. Please use `torch.amp.autocast('cuda', args...)` instead.\n",
      "  with autocast():\n"
     ]
    },
    {
     "name": "stdout",
     "output_type": "stream",
     "text": [
      "Epoch 2 - Training Loss: 1.8778\n",
      "Task 1 - Training Accuracy: 0.8077, Validation Accuracy: 0.7947\n",
      "Task 2 - Training Accuracy: 0.5759, Validation Accuracy: 0.5789\n"
     ]
    },
    {
     "name": "stderr",
     "output_type": "stream",
     "text": [
      "C:\\Users\\ashvi\\AppData\\Local\\Temp\\ipykernel_28460\\322483422.py:16: FutureWarning: `torch.cuda.amp.autocast(args...)` is deprecated. Please use `torch.amp.autocast('cuda', args...)` instead.\n",
      "  with autocast():\n",
      "C:\\Users\\ashvi\\AppData\\Local\\Temp\\ipykernel_28460\\322483422.py:68: FutureWarning: `torch.cuda.amp.autocast(args...)` is deprecated. Please use `torch.amp.autocast('cuda', args...)` instead.\n",
      "  with autocast():\n"
     ]
    },
    {
     "name": "stdout",
     "output_type": "stream",
     "text": [
      "Epoch 3 - Training Loss: 1.6972\n",
      "Task 1 - Training Accuracy: 0.8329, Validation Accuracy: 0.7984\n",
      "Task 2 - Training Accuracy: 0.6103, Validation Accuracy: 0.5782\n"
     ]
    },
    {
     "name": "stderr",
     "output_type": "stream",
     "text": [
      "C:\\Users\\ashvi\\AppData\\Local\\Temp\\ipykernel_28460\\322483422.py:16: FutureWarning: `torch.cuda.amp.autocast(args...)` is deprecated. Please use `torch.amp.autocast('cuda', args...)` instead.\n",
      "  with autocast():\n",
      "C:\\Users\\ashvi\\AppData\\Local\\Temp\\ipykernel_28460\\322483422.py:68: FutureWarning: `torch.cuda.amp.autocast(args...)` is deprecated. Please use `torch.amp.autocast('cuda', args...)` instead.\n",
      "  with autocast():\n"
     ]
    },
    {
     "name": "stdout",
     "output_type": "stream",
     "text": [
      "Epoch 4 - Training Loss: 1.4965\n",
      "Task 1 - Training Accuracy: 0.8659, Validation Accuracy: 0.7713\n",
      "Task 2 - Training Accuracy: 0.6497, Validation Accuracy: 0.5676\n"
     ]
    },
    {
     "name": "stderr",
     "output_type": "stream",
     "text": [
      "C:\\Users\\ashvi\\AppData\\Local\\Temp\\ipykernel_28460\\322483422.py:16: FutureWarning: `torch.cuda.amp.autocast(args...)` is deprecated. Please use `torch.amp.autocast('cuda', args...)` instead.\n",
      "  with autocast():\n",
      "C:\\Users\\ashvi\\AppData\\Local\\Temp\\ipykernel_28460\\322483422.py:68: FutureWarning: `torch.cuda.amp.autocast(args...)` is deprecated. Please use `torch.amp.autocast('cuda', args...)` instead.\n",
      "  with autocast():\n"
     ]
    },
    {
     "name": "stdout",
     "output_type": "stream",
     "text": [
      "Epoch 5 - Training Loss: 1.2818\n",
      "Task 1 - Training Accuracy: 0.8996, Validation Accuracy: 0.7836\n",
      "Task 2 - Training Accuracy: 0.6891, Validation Accuracy: 0.5692\n"
     ]
    },
    {
     "name": "stderr",
     "output_type": "stream",
     "text": [
      "C:\\Users\\ashvi\\AppData\\Local\\Temp\\ipykernel_28460\\322483422.py:16: FutureWarning: `torch.cuda.amp.autocast(args...)` is deprecated. Please use `torch.amp.autocast('cuda', args...)` instead.\n",
      "  with autocast():\n",
      "C:\\Users\\ashvi\\AppData\\Local\\Temp\\ipykernel_28460\\322483422.py:68: FutureWarning: `torch.cuda.amp.autocast(args...)` is deprecated. Please use `torch.amp.autocast('cuda', args...)` instead.\n",
      "  with autocast():\n"
     ]
    },
    {
     "name": "stdout",
     "output_type": "stream",
     "text": [
      "Epoch 6 - Training Loss: 1.0952\n",
      "Task 1 - Training Accuracy: 0.9280, Validation Accuracy: 0.7842\n",
      "Task 2 - Training Accuracy: 0.7230, Validation Accuracy: 0.5631\n"
     ]
    },
    {
     "name": "stderr",
     "output_type": "stream",
     "text": [
      "C:\\Users\\ashvi\\AppData\\Local\\Temp\\ipykernel_28460\\322483422.py:16: FutureWarning: `torch.cuda.amp.autocast(args...)` is deprecated. Please use `torch.amp.autocast('cuda', args...)` instead.\n",
      "  with autocast():\n",
      "C:\\Users\\ashvi\\AppData\\Local\\Temp\\ipykernel_28460\\322483422.py:68: FutureWarning: `torch.cuda.amp.autocast(args...)` is deprecated. Please use `torch.amp.autocast('cuda', args...)` instead.\n",
      "  with autocast():\n"
     ]
    },
    {
     "name": "stdout",
     "output_type": "stream",
     "text": [
      "Epoch 7 - Training Loss: 0.9391\n",
      "Task 1 - Training Accuracy: 0.9466, Validation Accuracy: 0.7677\n",
      "Task 2 - Training Accuracy: 0.7517, Validation Accuracy: 0.5600\n"
     ]
    },
    {
     "name": "stderr",
     "output_type": "stream",
     "text": [
      "C:\\Users\\ashvi\\AppData\\Local\\Temp\\ipykernel_28460\\322483422.py:16: FutureWarning: `torch.cuda.amp.autocast(args...)` is deprecated. Please use `torch.amp.autocast('cuda', args...)` instead.\n",
      "  with autocast():\n",
      "C:\\Users\\ashvi\\AppData\\Local\\Temp\\ipykernel_28460\\322483422.py:68: FutureWarning: `torch.cuda.amp.autocast(args...)` is deprecated. Please use `torch.amp.autocast('cuda', args...)` instead.\n",
      "  with autocast():\n"
     ]
    },
    {
     "name": "stdout",
     "output_type": "stream",
     "text": [
      "Epoch 8 - Training Loss: 0.8201\n",
      "Task 1 - Training Accuracy: 0.9595, Validation Accuracy: 0.7866\n",
      "Task 2 - Training Accuracy: 0.7750, Validation Accuracy: 0.5566\n"
     ]
    },
    {
     "name": "stderr",
     "output_type": "stream",
     "text": [
      "C:\\Users\\ashvi\\AppData\\Local\\Temp\\ipykernel_28460\\322483422.py:16: FutureWarning: `torch.cuda.amp.autocast(args...)` is deprecated. Please use `torch.amp.autocast('cuda', args...)` instead.\n",
      "  with autocast():\n",
      "C:\\Users\\ashvi\\AppData\\Local\\Temp\\ipykernel_28460\\322483422.py:68: FutureWarning: `torch.cuda.amp.autocast(args...)` is deprecated. Please use `torch.amp.autocast('cuda', args...)` instead.\n",
      "  with autocast():\n"
     ]
    },
    {
     "name": "stdout",
     "output_type": "stream",
     "text": [
      "Epoch 9 - Training Loss: 0.7321\n",
      "Task 1 - Training Accuracy: 0.9658, Validation Accuracy: 0.7788\n",
      "Task 2 - Training Accuracy: 0.7941, Validation Accuracy: 0.5482\n"
     ]
    },
    {
     "name": "stderr",
     "output_type": "stream",
     "text": [
      "C:\\Users\\ashvi\\AppData\\Local\\Temp\\ipykernel_28460\\322483422.py:16: FutureWarning: `torch.cuda.amp.autocast(args...)` is deprecated. Please use `torch.amp.autocast('cuda', args...)` instead.\n",
      "  with autocast():\n",
      "C:\\Users\\ashvi\\AppData\\Local\\Temp\\ipykernel_28460\\322483422.py:68: FutureWarning: `torch.cuda.amp.autocast(args...)` is deprecated. Please use `torch.amp.autocast('cuda', args...)` instead.\n",
      "  with autocast():\n"
     ]
    },
    {
     "name": "stdout",
     "output_type": "stream",
     "text": [
      "Epoch 10 - Training Loss: 0.6553\n",
      "Task 1 - Training Accuracy: 0.9715, Validation Accuracy: 0.7849\n",
      "Task 2 - Training Accuracy: 0.8123, Validation Accuracy: 0.5437\n"
     ]
    }
   ],
   "source": [
    "for epoch in range(10):\n",
    "    model.train()\n",
    "    total_train_loss = 0\n",
    "    train_preds_task1, train_preds_task2 = [], []\n",
    "    train_labels_task1, train_labels_task2 = [], []\n",
    "\n",
    "    for step, batch in enumerate(train_loader):\n",
    "        # Move batch data to the device with non_blocking for faster transfer\n",
    "        input_ids = batch[0].to(device, non_blocking=True)\n",
    "        attention_mask = batch[1].to(device, non_blocking=True)\n",
    "        labels_task1 = batch[2].to(device, non_blocking=True)\n",
    "        labels_task2 = batch[3].to(device, non_blocking=True)\n",
    "\n",
    "        # Forward pass with mixed precision if enabled\n",
    "        if use_mixed_precision:\n",
    "            with autocast():\n",
    "                outputs = model(input_ids=input_ids, attention_mask=attention_mask,\n",
    "                                labels_task1=labels_task1, labels_task2=labels_task2)\n",
    "                loss = outputs[\"loss\"] / accumulation_steps\n",
    "        else:\n",
    "            outputs = model(input_ids=input_ids, attention_mask=attention_mask,\n",
    "                            labels_task1=labels_task1, labels_task2=labels_task2)\n",
    "            loss = outputs[\"loss\"] / accumulation_steps\n",
    "\n",
    "        total_train_loss += loss.item() * accumulation_steps\n",
    "\n",
    "        # Backward pass with scaling if mixed precision is enabled\n",
    "        if use_mixed_precision:\n",
    "            scaler.scale(loss).backward()\n",
    "        else:\n",
    "            loss.backward()\n",
    "\n",
    "        # Gradient accumulation step\n",
    "        if (step + 1) % accumulation_steps == 0:\n",
    "            if use_mixed_precision:\n",
    "                scaler.step(optimizer)\n",
    "                scaler.update()\n",
    "            else:\n",
    "                optimizer.step()\n",
    "            optimizer.zero_grad()\n",
    "\n",
    "        # Move predictions and labels to CPU for accuracy calculation\n",
    "        train_preds_task1.extend(torch.argmax(outputs[\"logits_task1\"], axis=1).detach().cpu().numpy())\n",
    "        train_preds_task2.extend(torch.argmax(outputs[\"logits_task2\"], axis=1).detach().cpu().numpy())\n",
    "        train_labels_task1.extend(labels_task1.detach().cpu().numpy())\n",
    "        train_labels_task2.extend(labels_task2.detach().cpu().numpy())\n",
    "\n",
    "    # Calculate training accuracy once per epoch\n",
    "    train_accuracy_task1 = accuracy_score(train_labels_task1, train_preds_task1)\n",
    "    train_accuracy_task2 = accuracy_score(train_labels_task2, train_preds_task2)\n",
    "    train_accuracies_task1.append(train_accuracy_task1)\n",
    "    train_accuracies_task2.append(train_accuracy_task2)\n",
    "\n",
    "    # Validation phase\n",
    "    model.eval()\n",
    "    val_preds_task1, val_preds_task2 = [], []\n",
    "    val_labels_task1, val_labels_task2 = [], []\n",
    "    \n",
    "    with torch.no_grad():\n",
    "        for batch in val_loader:\n",
    "            input_ids = batch[0].to(device, non_blocking=True)\n",
    "            attention_mask = batch[1].to(device, non_blocking=True)\n",
    "            labels_task1 = batch[2].to(device, non_blocking=True)\n",
    "            labels_task2 = batch[3].to(device, non_blocking=True)\n",
    "\n",
    "            # Mixed precision forward pass if enabled\n",
    "            if use_mixed_precision:\n",
    "                with autocast():\n",
    "                    outputs = model(input_ids=input_ids, attention_mask=attention_mask)\n",
    "            else:\n",
    "                outputs = model(input_ids=input_ids, attention_mask=attention_mask)\n",
    "\n",
    "            # Move predictions and labels back to CPU for accuracy calculation\n",
    "            val_preds_task1.extend(torch.argmax(outputs[\"logits_task1\"], axis=1).cpu().numpy())\n",
    "            val_preds_task2.extend(torch.argmax(outputs[\"logits_task2\"], axis=1).cpu().numpy())\n",
    "            val_labels_task1.extend(labels_task1.cpu().numpy())\n",
    "            val_labels_task2.extend(labels_task2.cpu().numpy())\n",
    "\n",
    "    # Calculate validation accuracy once per epoch\n",
    "    val_accuracy_task1 = accuracy_score(val_labels_task1, val_preds_task1)\n",
    "    val_accuracy_task2 = accuracy_score(val_labels_task2, val_preds_task2)\n",
    "    val_accuracies_task1.append(val_accuracy_task1)\n",
    "    val_accuracies_task2.append(val_accuracy_task2)\n",
    "\n",
    "    # Print epoch statistics\n",
    "    print(f\"Epoch {epoch + 1} - Training Loss: {total_train_loss / len(train_loader):.4f}\")\n",
    "    print(f\"Task 1 - Training Accuracy: {train_accuracy_task1:.4f}, Validation Accuracy: {val_accuracy_task1:.4f}\")\n",
    "    print(f\"Task 2 - Training Accuracy: {train_accuracy_task2:.4f}, Validation Accuracy: {val_accuracy_task2:.4f}\")"
   ]
  },
  {
   "cell_type": "code",
   "execution_count": 17,
   "metadata": {},
   "outputs": [
    {
     "data": {
      "text/plain": [
       "<matplotlib.legend.Legend at 0x1e017aa08f0>"
      ]
     },
     "execution_count": 17,
     "metadata": {},
     "output_type": "execute_result"
    },
    {
     "data": {
      "image/png": "[encoded data removed]",
      "text/plain": [
       "<Figure size 1200x500 with 1 Axes>"
      ]
     },
     "metadata": {},
     "output_type": "display_data"
    }
   ],
   "source": [
    "# Plot Training and Validation Accuracy for Task 1\n",
    "plt.figure(figsize=(12, 5))\n",
    "plt.subplot(1, 2, 1)\n",
    "plt.plot(train_accuracies_task1, label='Train Accuracy - Task 1')\n",
    "plt.plot(val_accuracies_task1, label='Val Accuracy - Task 1')\n",
    "plt.xlabel('Epochs')\n",
    "plt.ylabel('Accuracy')\n",
    "plt.title('Task 1: Category Classification')\n",
    "plt.legend()"
   ]
  },
  {
   "cell_type": "code",
   "execution_count": 18,
   "metadata": {},
   "outputs": [
    {
     "data": {
      "image/png": "[encoded data removed]",
      "text/plain": [
       "<Figure size 640x480 with 1 Axes>"
      ]
     },
     "metadata": {},
     "output_type": "display_data"
    }
   ],
   "source": [
    "# Plot Training and Validation Accuracy for Task 2\n",
    "plt.subplot(1, 2, 2)\n",
    "plt.plot(train_accuracies_task2, label='Train Accuracy - Task 2')\n",
    "plt.plot(val_accuracies_task2, label='Val Accuracy - Task 2')\n",
    "plt.xlabel('Epochs')\n",
    "plt.ylabel('Accuracy')\n",
    "plt.title('Task 2: Sub-Category Classification')\n",
    "plt.legend()\n",
    "\n",
    "plt.tight_layout()\n",
    "plt.show()\n"
   ]
  },
  {
   "cell_type": "code",
   "execution_count": 19,
   "metadata": {},
   "outputs": [],
   "source": [
    "model_save_path = \"model_state.pth\"\n",
    "\n",
    "# Save the model's state dictionary\n",
    "torch.save(model.state_dict(), model_save_path)"
   ]
  },
  {
   "cell_type": "code",
   "execution_count": 20,
   "metadata": {},
   "outputs": [],
   "source": [
    "# Specify path to save the checkpoint\n",
    "checkpoint_path = \"model_checkpoint.pth\"\n",
    "\n",
    "# Save model state, optimizer state, and any other necessary information\n",
    "torch.save({\n",
    "    # 'epoch': 10,\n",
    "    'model_state_dict': model.state_dict(),\n",
    "    'optimizer_state_dict': optimizer.state_dict(),\n",
    "    # 'loss': loss,\n",
    "}, checkpoint_path)\n"
   ]
  }
 ],
 "metadata": {
  "kernelspec": {
   "display_name": "base",
   "language": "python",
   "name": "python3"
  },
  "language_info": {
   "codemirror_mode": {
    "name": "ipython",
    "version": 3
   },
   "file_extension": ".py",
   "mimetype": "text/x-python",
   "name": "python",
   "nbconvert_exporter": "python",
   "pygments_lexer": "ipython3",
   "version": "3.12.3"
  }
 },
 "nbformat": 4,
 "nbformat_minor": 2
}
