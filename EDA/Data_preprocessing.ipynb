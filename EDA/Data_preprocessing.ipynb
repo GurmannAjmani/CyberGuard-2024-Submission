{
 "cells": [
  {
   "cell_type": "code",
   "execution_count": 6,
   "metadata": {},
   "outputs": [],
   "source": [
    "import pandas as pd\n",
    "from sklearn.preprocessing import LabelEncoder\n",
    "from nltk.corpus import stopwords\n",
    "from nltk.tokenize import word_tokenize\n",
    "from nltk.stem import WordNetLemmatizer\n",
    "import nltk\n",
    "import re"
   ]
  },
  {
   "cell_type": "code",
   "execution_count": 2,
   "metadata": {},
   "outputs": [
    {
     "name": "stderr",
     "output_type": "stream",
     "text": [
      "[nltk_data] Downloading package punkt to /home/rapidorc/nltk_data...\n",
      "[nltk_data]   Package punkt is already up-to-date!\n",
      "[nltk_data] Downloading package stopwords to\n",
      "[nltk_data]     /home/rapidorc/nltk_data...\n",
      "[nltk_data]   Package stopwords is already up-to-date!\n",
      "[nltk_data] Downloading package wordnet to /home/rapidorc/nltk_data...\n",
      "[nltk_data]   Package wordnet is already up-to-date!\n"
     ]
    },
    {
     "data": {
      "text/plain": [
       "True"
      ]
     },
     "execution_count": 2,
     "metadata": {},
     "output_type": "execute_result"
    }
   ],
   "source": [
    "nltk.download('punkt')\n",
    "nltk.download('stopwords')\n",
    "nltk.download('wordnet')"
   ]
  },
  {
   "cell_type": "code",
   "execution_count": 3,
   "metadata": {},
   "outputs": [],
   "source": [
    "df_train=pd.read_csv(\"train.csv\")"
   ]
  },
  {
   "cell_type": "markdown",
   "metadata": {},
   "source": [
    "# FUNCTION DEFINITION"
   ]
  },
  {
   "cell_type": "code",
   "execution_count": 7,
   "metadata": {},
   "outputs": [],
   "source": [
    "\n",
    "def preprocess_text(text):\n",
    "    # Convert to string in case of non-string input\n",
    "    text = str(text)\n",
    "    \n",
    "    # Convert to lowercase\n",
    "    text = text.lower()\n",
    "    \n",
    "    # Remove special characters and digits\n",
    "    text = re.sub(r'[^a-zA-Z\\s]', '', text)\n",
    "    \n",
    "    # Tokenization\n",
    "    tokens = word_tokenize(text)\n",
    "    \n",
    "    # Remove stop words\n",
    "    stop_words = set(stopwords.words('english'))\n",
    "    tokens = [token for token in tokens if token not in stop_words]\n",
    "    \n",
    "    # Lemmatization\n",
    "    lemmatizer = WordNetLemmatizer()\n",
    "    tokens = [lemmatizer.lemmatize(token) for token in tokens]\n",
    "    \n",
    "    # Join tokens back into text\n",
    "    return ' '.join(tokens)"
   ]
  },
  {
   "cell_type": "markdown",
   "metadata": {},
   "source": [
    "# MAPPING DICTIONARY"
   ]
  },
  {
   "cell_type": "code",
   "execution_count": 8,
   "metadata": {},
   "outputs": [],
   "source": [
    "category_mapping = {\n",
    "    'Online Financial Fraud': 0,\n",
    "    'Online and Social Media Related Crime': 1,\n",
    "    'Any Other Cyber Crime': 2,\n",
    "    'Cyber Attack/ Dependent Crimes': 3,\n",
    "    'RapeGang Rape RGRSexually Abusive Content': 4,\n",
    "    'Sexually Obscene material': 5,\n",
    "    'Hacking  Damage to computercomputer system etc': 6,\n",
    "    'Sexually Explicit Act': 7,\n",
    "    'Cryptocurrency Crime': 8,\n",
    "    'Online Gambling  Betting': 9,\n",
    "    'Child Pornography CPChild Sexual Abuse Material CSAM': 10,\n",
    "    'Online Cyber Trafficking': 11,\n",
    "    'Cyber Terrorism': 12,\n",
    "    'Ransomware': 13,\n",
    "    'Report Unlawful Content': 14\n",
    "}\n",
    "\n",
    "subcategory_mapping = {\n",
    "    'UPI Related Frauds': 0,\n",
    "    'Other': 1,\n",
    "    'DebitCredit Card FraudSim Swap Fraud': 2,\n",
    "    'Internet Banking Related Fraud': 3,\n",
    "    'Fraud CallVishing': 4,\n",
    "    'Cyber Bullying  Stalking  Sexting': 5,\n",
    "    'EWallet Related Fraud': 6,\n",
    "    'FakeImpersonating Profile': 7,\n",
    "    'Profile Hacking Identity Theft': 8,\n",
    "    'Cheating by Impersonation': 9,\n",
    "    'Unauthorised AccessData Breach': 10,\n",
    "    'Online Job Fraud': 11,\n",
    "    'DematDepository Fraud': 12,\n",
    "    'Tampering with computer source documents': 13,\n",
    "    'Hacking/Defacement': 14,\n",
    "    'Ransomware Attack': 15,\n",
    "    'Malware Attack': 16,\n",
    "    'SQL Injection': 17,\n",
    "    'Denial of Service (DoS)/Distributed Denial of Service (DDOS) attacks': 18,\n",
    "    'Data Breach/Theft': 19,\n",
    "    'Cryptocurrency Fraud': 20,\n",
    "    'Online Gambling  Betting': 21,\n",
    "    'Provocative Speech for unlawful acts': 22,\n",
    "    'Email Hacking': 23,\n",
    "    'Business Email CompromiseEmail Takeover': 24,\n",
    "    'Online Trafficking': 25,\n",
    "    'Cyber Terrorism': 26,\n",
    "    'EMail Phishing': 27,\n",
    "    'Online Matrimonial Fraud': 28,\n",
    "    'Damage to computer computer systems etc': 29,\n",
    "    'Website DefacementHacking': 30,\n",
    "    'Ransomware': 31,\n",
    "    'Impersonating Email': 32,\n",
    "    'Intimidating Email': 33,\n",
    "    'Against Interest of sovereignty or integrity of India': 34\n",
    "}\n"
   ]
  },
  {
   "cell_type": "markdown",
   "metadata": {},
   "source": [
    "# PROCESSING"
   ]
  },
  {
   "cell_type": "code",
   "execution_count": 9,
   "metadata": {},
   "outputs": [],
   "source": [
    "df=pd.read_csv(\"train.csv\")"
   ]
  },
  {
   "cell_type": "code",
   "execution_count": 10,
   "metadata": {},
   "outputs": [],
   "source": [
    "df['processed_text'] = df['crimeaditionalinfo'].apply(preprocess_text)\n",
    "\n",
    "df['category_encoded'] = df['category'].map(category_mapping)\n",
    "df['subcategory_encoded'] = df['sub_category'].map(subcategory_mapping)\n",
    "\n",
    "df.to_csv('Modified_Data.csv', index=False)"
   ]
  },
  {
   "cell_type": "code",
   "execution_count": null,
   "metadata": {},
   "outputs": [],
   "source": []
  }
 ],
 "metadata": {
  "interpreter": {
   "hash": "94262385c10ee298ab4386ae107c72f0085e0cc305a13101bbfadc0407e08f37"
  },
  "kernelspec": {
   "display_name": "Python 3.10.15 ('base')",
   "language": "python",
   "name": "python3"
  },
  "language_info": {
   "codemirror_mode": {
    "name": "ipython",
    "version": 3
   },
   "file_extension": ".py",
   "mimetype": "text/x-python",
   "name": "python",
   "nbconvert_exporter": "python",
   "pygments_lexer": "ipython3",
   "version": "3.10.15"
  },
  "orig_nbformat": 4
 },
 "nbformat": 4,
 "nbformat_minor": 2
}
