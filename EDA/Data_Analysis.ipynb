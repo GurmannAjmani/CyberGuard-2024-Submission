{
 "cells": [
  {
   "cell_type": "code",
   "execution_count": 1,
   "metadata": {},
   "outputs": [],
   "source": [
    "import pandas as pd \n",
    "import numpy as np \n",
    "import matplotlib.pyplot as plt \n",
    "import seaborn as sns\n",
    "plt.rcParams['font.family'] = 'DejaVu Sans'\n",
    "import warnings\n",
    "import math\n",
    "import os\n",
    "from tqdm.notebook import tqdm\n",
    "\n",
    "# Suppress glyph warnings\n",
    "warnings.filterwarnings(\"ignore\", message=\"Glyph.*missing from current font\")"
   ]
  },
  {
   "cell_type": "code",
   "execution_count": 2,
   "metadata": {},
   "outputs": [
    {
     "name": "stdout",
     "output_type": "stream",
     "text": [
      "Error: [WinError 3] The system cannot find the path specified: 'plots'\n"
     ]
    }
   ],
   "source": [
    "import shutil\n",
    "\n",
    "# Specify the path of the directory to delete\n",
    "directory_path = 'plots'\n",
    "\n",
    "try:\n",
    "    shutil.rmtree(directory_path)\n",
    "    print(f\"Successfully removed the directory and its contents: {directory_path}\")\n",
    "except Exception as e:\n",
    "    print(f\"Error: {e}\")\n"
   ]
  },
  {
   "cell_type": "code",
   "execution_count": 3,
   "metadata": {},
   "outputs": [
    {
     "data": {
      "text/html": [
       "<div>\n",
       "<style scoped>\n",
       "    .dataframe tbody tr th:only-of-type {\n",
       "        vertical-align: middle;\n",
       "    }\n",
       "\n",
       "    .dataframe tbody tr th {\n",
       "        vertical-align: top;\n",
       "    }\n",
       "\n",
       "    .dataframe thead th {\n",
       "        text-align: right;\n",
       "    }\n",
       "</style>\n",
       "<table border=\"1\" class=\"dataframe\">\n",
       "  <thead>\n",
       "    <tr style=\"text-align: right;\">\n",
       "      <th></th>\n",
       "      <th>category</th>\n",
       "      <th>sub_category</th>\n",
       "      <th>crimeaditionalinfo</th>\n",
       "    </tr>\n",
       "  </thead>\n",
       "  <tbody>\n",
       "    <tr>\n",
       "      <th>0</th>\n",
       "      <td>Online and Social Media Related Crime</td>\n",
       "      <td>Cyber Bullying  Stalking  Sexting</td>\n",
       "      <td>I had continue received random calls and abusi...</td>\n",
       "    </tr>\n",
       "    <tr>\n",
       "      <th>1</th>\n",
       "      <td>Online Financial Fraud</td>\n",
       "      <td>Fraud CallVishing</td>\n",
       "      <td>The above fraudster is continuously messaging ...</td>\n",
       "    </tr>\n",
       "    <tr>\n",
       "      <th>2</th>\n",
       "      <td>Online Gambling  Betting</td>\n",
       "      <td>Online Gambling  Betting</td>\n",
       "      <td>He is acting like a police and demanding for m...</td>\n",
       "    </tr>\n",
       "    <tr>\n",
       "      <th>3</th>\n",
       "      <td>Online and Social Media Related Crime</td>\n",
       "      <td>Online Job Fraud</td>\n",
       "      <td>In apna Job I have applied for job interview f...</td>\n",
       "    </tr>\n",
       "    <tr>\n",
       "      <th>4</th>\n",
       "      <td>Online Financial Fraud</td>\n",
       "      <td>Fraud CallVishing</td>\n",
       "      <td>I received a call from lady stating that she w...</td>\n",
       "    </tr>\n",
       "    <tr>\n",
       "      <th>5</th>\n",
       "      <td>Online Financial Fraud</td>\n",
       "      <td>UPI Related Frauds</td>\n",
       "      <td>FRAUD \\t UPI PAYTM \\r\\nBANK \\tPunjab National ...</td>\n",
       "    </tr>\n",
       "    <tr>\n",
       "      <th>6</th>\n",
       "      <td>Online Financial Fraud</td>\n",
       "      <td>Fraud CallVishing</td>\n",
       "      <td>Sir I am Prabhat Singh jat  An app on playstor...</td>\n",
       "    </tr>\n",
       "    <tr>\n",
       "      <th>7</th>\n",
       "      <td>Online Financial Fraud</td>\n",
       "      <td>Internet Banking Related Fraud</td>\n",
       "      <td>FINANCIAL FRAUD  RS</td>\n",
       "    </tr>\n",
       "    <tr>\n",
       "      <th>8</th>\n",
       "      <td>RapeGang Rape RGRSexually Abusive Content</td>\n",
       "      <td>NaN</td>\n",
       "      <td>I got the message on Whatsapp to my number The...</td>\n",
       "    </tr>\n",
       "    <tr>\n",
       "      <th>9</th>\n",
       "      <td>Any Other Cyber Crime</td>\n",
       "      <td>Other</td>\n",
       "      <td>Details entered in pdf file Person posing as A...</td>\n",
       "    </tr>\n",
       "  </tbody>\n",
       "</table>\n",
       "</div>"
      ],
      "text/plain": [
       "                                    category  \\\n",
       "0      Online and Social Media Related Crime   \n",
       "1                     Online Financial Fraud   \n",
       "2                   Online Gambling  Betting   \n",
       "3      Online and Social Media Related Crime   \n",
       "4                     Online Financial Fraud   \n",
       "5                     Online Financial Fraud   \n",
       "6                     Online Financial Fraud   \n",
       "7                     Online Financial Fraud   \n",
       "8  RapeGang Rape RGRSexually Abusive Content   \n",
       "9                      Any Other Cyber Crime   \n",
       "\n",
       "                        sub_category  \\\n",
       "0  Cyber Bullying  Stalking  Sexting   \n",
       "1                  Fraud CallVishing   \n",
       "2           Online Gambling  Betting   \n",
       "3                   Online Job Fraud   \n",
       "4                  Fraud CallVishing   \n",
       "5                 UPI Related Frauds   \n",
       "6                  Fraud CallVishing   \n",
       "7     Internet Banking Related Fraud   \n",
       "8                                NaN   \n",
       "9                              Other   \n",
       "\n",
       "                                  crimeaditionalinfo  \n",
       "0  I had continue received random calls and abusi...  \n",
       "1  The above fraudster is continuously messaging ...  \n",
       "2  He is acting like a police and demanding for m...  \n",
       "3  In apna Job I have applied for job interview f...  \n",
       "4  I received a call from lady stating that she w...  \n",
       "5  FRAUD \\t UPI PAYTM \\r\\nBANK \\tPunjab National ...  \n",
       "6  Sir I am Prabhat Singh jat  An app on playstor...  \n",
       "7                               FINANCIAL FRAUD  RS   \n",
       "8  I got the message on Whatsapp to my number The...  \n",
       "9  Details entered in pdf file Person posing as A...  "
      ]
     },
     "execution_count": 3,
     "metadata": {},
     "output_type": "execute_result"
    }
   ],
   "source": [
    "df = pd.read_csv(\"train.csv\")\n",
    "df.head(10)"
   ]
  },
  {
   "cell_type": "code",
   "execution_count": 4,
   "metadata": {},
   "outputs": [
    {
     "data": {
      "text/plain": [
       "category              0.000000\n",
       "sub_category          7.035203\n",
       "crimeaditionalinfo    0.022415\n",
       "dtype: float64"
      ]
     },
     "execution_count": 4,
     "metadata": {},
     "output_type": "execute_result"
    }
   ],
   "source": [
    "(df.isna().sum() / len(df))*100"
   ]
  },
  {
   "cell_type": "code",
   "execution_count": 5,
   "metadata": {},
   "outputs": [],
   "source": [
    "target_columns = ['category' , 'sub_category']"
   ]
  },
  {
   "cell_type": "code",
   "execution_count": 6,
   "metadata": {},
   "outputs": [
    {
     "name": "stdout",
     "output_type": "stream",
     "text": [
      "   category  sub_category                                 crimeaditionalinfo\n",
      "0         1           5.0  I had continue received random calls and abusi...\n",
      "1         0           4.0  The above fraudster is continuously messaging ...\n",
      "2         9          21.0  He is acting like a police and demanding for m...\n",
      "3         1          11.0  In apna Job I have applied for job interview f...\n",
      "4         0           4.0  I received a call from lady stating that she w...\n"
     ]
    },
    {
     "name": "stderr",
     "output_type": "stream",
     "text": [
      "C:\\Users\\ashvi\\AppData\\Local\\Temp\\ipykernel_11208\\500535216.py:37: FutureWarning: Downcasting behavior in `replace` is deprecated and will be removed in a future version. To retain the old behavior, explicitly call `result.infer_objects(copy=False)`. To opt-in to the future behavior, set `pd.set_option('future.no_silent_downcasting', True)`\n",
      "  df[x] = df[x].replace(label_mapping)\n",
      "C:\\Users\\ashvi\\AppData\\Local\\Temp\\ipykernel_11208\\500535216.py:37: FutureWarning: Downcasting behavior in `replace` is deprecated and will be removed in a future version. To retain the old behavior, explicitly call `result.infer_objects(copy=False)`. To opt-in to the future behavior, set `pd.set_option('future.no_silent_downcasting', True)`\n",
      "  df[x] = df[x].replace(label_mapping)\n"
     ]
    }
   ],
   "source": [
    "# Create the plots directory if it does not exist\n",
    "os.makedirs('plots', exist_ok=True)\n",
    "\n",
    "# Create or open the README.md file for appending\n",
    "with open('plots/README.md', 'a+') as readme_file: \n",
    "    # Write the header and overview section only if the file is empty\n",
    "    if readme_file.tell() == 0:  # Check if file is empty\n",
    "        readme_file.write(\"# Data Analysis Project\\n\\n\")\n",
    "        readme_file.write(\"## Overview\\n\")\n",
    "        readme_file.write(\"This project analyzes various categories and subcategories of cyber crimes. \"\n",
    "                          \"The dataset includes multiple columns, some of which are categorical in nature. \"\n",
    "                          \"To facilitate analysis and visualization, categorical labels have been converted to integer representations based on their frequency of occurrence.\\n\\n\")\n",
    "        \n",
    "        readme_file.write(\"## Label Mapping Strategy\\n\\n\")\n",
    "        readme_file.write(\"The following strategy was used to map categorical labels to integers:\\n\")\n",
    "        readme_file.write(\"1. **Counting Occurrences**: For each target column, the occurrences of each unique label were counted.\\n\")\n",
    "        readme_file.write(\"2. **Mapping Labels to Integers**: A mapping was created where the most frequent label is assigned `0`, the second most frequent label is assigned `1`, and so forth.\\n\")\n",
    "        readme_file.write(\"3. **Replacing Original Labels**: The original labels in the DataFrame were replaced with their corresponding integer values using the mapping.\\n\\n\")\n",
    "\n",
    "    readme_file.write(\"### Target Columns Mapped\\n\\n\")\n",
    "\n",
    "    # Loop through target columns to create mappings\n",
    "    for x in target_columns:\n",
    "        # Step 1: Count occurrences of each unique label\n",
    "        value_counts = df[x].value_counts()\n",
    "\n",
    "        # Step 2: Create a mapping of labels to integers based on their frequency\n",
    "        label_mapping = {label: index for index, (label, count) in enumerate(value_counts.items())}\n",
    "\n",
    "        # Write the mapping to the README file\n",
    "        readme_file.write(f\"#### Mapping for '{x}'\\n\")\n",
    "        readme_file.write(\"```python\\n\")\n",
    "        readme_file.write(f\"{label_mapping}\\n\")\n",
    "        readme_file.write(\"```\\n\\n\")\n",
    "\n",
    "        # Step 3: Replace original labels with integers using the mapping\n",
    "        df[x] = df[x].replace(label_mapping)\n",
    "\n",
    "# Show the final DataFrame (optional)\n",
    "print(df.head())\n"
   ]
  },
  {
   "cell_type": "code",
   "execution_count": 7,
   "metadata": {},
   "outputs": [
    {
     "name": "stdout",
     "output_type": "stream",
     "text": [
      "Data Shape: (93686, 3)\n",
      "Data Columns: Index(['category', 'sub_category', 'crimeaditionalinfo'], dtype='object')\n",
      "Data Types: category                int64\n",
      "sub_category          float64\n",
      "crimeaditionalinfo     object\n",
      "dtype: object\n",
      "First Few Rows:    category  sub_category                                 crimeaditionalinfo\n",
      "0         1           5.0  I had continue received random calls and abusi...\n",
      "1         0           4.0  The above fraudster is continuously messaging ...\n",
      "2         9          21.0  He is acting like a police and demanding for m...\n",
      "3         1          11.0  In apna Job I have applied for job interview f...\n",
      "4         0           4.0  I received a call from lady stating that she w...\n"
     ]
    }
   ],
   "source": [
    "# 1. Basic Information about Data\n",
    "print(\"Data Shape:\", df.shape)\n",
    "print(\"Data Columns:\", df.columns)\n",
    "print(\"Data Types:\", df.dtypes)\n",
    "print(\"First Few Rows:\", df.head())\n"
   ]
  },
  {
   "cell_type": "code",
   "execution_count": 8,
   "metadata": {},
   "outputs": [
    {
     "name": "stdout",
     "output_type": "stream",
     "text": [
      "Missing Values:\n",
      " sub_category          6591\n",
      "crimeaditionalinfo      21\n",
      "dtype: int64\n"
     ]
    },
    {
     "data": {
      "image/png": "[encoded data removed]",
      "text/plain": [
       "<Figure size 1000x500 with 1 Axes>"
      ]
     },
     "metadata": {},
     "output_type": "display_data"
    }
   ],
   "source": [
    "# 2. Missing Values Analysis\n",
    "missing_values = df.isnull().sum()\n",
    "print(\"Missing Values:\\n\", missing_values[missing_values > 0])\n",
    "\n",
    "# Visualize missing values\n",
    "plt.figure(figsize=(10, 5))\n",
    "sns.heatmap(df.isnull(), cbar=False, cmap='viridis')\n",
    "plt.title(\"Missing Values Heatmap\")\n",
    "plt.show()\n"
   ]
  },
  {
   "cell_type": "code",
   "execution_count": 9,
   "metadata": {},
   "outputs": [],
   "source": [
    "df= df.dropna()"
   ]
  },
  {
   "cell_type": "code",
   "execution_count": 10,
   "metadata": {},
   "outputs": [
    {
     "data": {
      "image/png": "[encoded data removed]",
      "text/plain": [
       "<Figure size 1000x600 with 1 Axes>"
      ]
     },
     "metadata": {},
     "output_type": "display_data"
    }
   ],
   "source": [
    "# 2.5 Class Count Analysis\n",
    "output_dir = \"plots/Class Counts\"\n",
    "os.makedirs(output_dir, exist_ok=True)  # Create directory if it doesn't exist\n",
    "\n",
    "for x in target_columns : \n",
    "    # Create the plot\n",
    "    plt.figure(figsize=(10, 6))\n",
    "    class_counts = df[x].value_counts()\n",
    "    class_counts.plot(kind='bar', log=True)\n",
    "    plt.xlabel(f\"{x}\")\n",
    "    plt.ylabel('Count (log scale)')\n",
    "    plt.title('Class Counts on Log Scale')\n",
    "\n",
    "    # Save the plot\n",
    "    file_path = os.path.join(output_dir, f\"{x}_log_scale.png\")\n",
    "    plt.savefig(file_path, bbox_inches='tight')\n",
    "# Optionally, close the plot to free up memory\n",
    "plt.close()"
   ]
  },
  {
   "cell_type": "code",
   "execution_count": 11,
   "metadata": {},
   "outputs": [
    {
     "name": "stdout",
     "output_type": "stream",
     "text": [
      "Summary Statistics:\n",
      "            category  sub_category\n",
      "count  87074.000000  87074.000000\n",
      "mean       0.775191      3.856306\n",
      "std        1.586005      5.403490\n",
      "min        0.000000      0.000000\n",
      "25%        0.000000      0.000000\n",
      "50%        0.000000      2.000000\n",
      "75%        1.000000      5.000000\n",
      "max       14.000000     34.000000\n",
      "Categorical Value Counts:\n",
      "\n",
      "crimeaditionalinfo\n",
      "Financial Fraud                                                                                                                                                                                                                                                                                                                                                                                                                                                                                                                                                                                                       234\n",
      "Fraudulent transaction                                                                                                                                                                                                                                                                                                                                                                                                                                                                                                                                                                                                173\n",
      "financial fraud                                                                                                                                                                                                                                                                                                                                                                                                                                                                                                                                                                                                       169\n",
      "Financial Fraud                                                                                                                                                                                                                                                                                                                                                                                                                                                                                                                                                                                                       166\n",
      "financial fraud                                                                                                                                                                                                                                                                                                                                                                                                                                                                                                                                                                                                       143\n",
      "                                                                                                                                                                                                                                                                                                                                                                                                                                                                                                                                                                                                                     ... \n",
      "My name is ketan sharma I download ob cash app on Google pay on  After login he checking eligibility and offering  due in  days  After some time amounts of rs  credit in my account Now after  days he whatsapp me and demanded   And says today ur last date He blackmailing and harassment me And also my all contact send me and says i call ur all relatives  Vulgar languages use  He number is  I only whatsapp chatting  No call me Whatsapp chatting and some voice recording send me  I try this number for call but this number received any old age man He nothings knows what happens  Please help me      1\n",
      "Mahindra Gusto Scooty Red Colour Registration No DLSDC was Taken From My House  Govindpuri New delhi to Prayagraj Dated  Jan for Tranport PurposeAnd Cost was decided as  But Now He asking More Money Not Updating Further Information I am Concerned about My Vehicle That Vehicle has been Stolen by Transporter Pl support for Find my Vehicle                                                                                                                                                                                                                                                                      1\n",
      "FRAUD THROUGH    DEBIT CARD \\r\\n BANK    STATE BANK OF INDIA  \\r\\n ACCOUNT    NUMBER    \\r\\nTOTAL AMOUNT   \\r\\nPLEASE HOLD REVERSE TOTAL AMOUNT IN THE COMPLAINT ACCOUNT AND TAKE NECESSARY ACTION\\r\\n                                                                                                                                                                                                                                                                                                                                                                                                                  1\n",
      "Myself Reema Goswami resident of Gujranwala Town has an account with ICICI Bank Gujranwala Town branch AC No  I had called the customer care number of ICICI on monday morning ie on  at around  But that bank executive hacked my phone and took money from my account and credit card He took Rs  from my bank account and Rs  from credit card i want my refund back and also i do not use my credit card that much                                                                                                                                                                                                  1\n",
      "There is app name koko loan app they send the money into the account unknowingly without my consent or any loan letter or anything and now they are asking for Rs  this is a fraud loan application and they are abusing me i am a student please help me out                                                                                                                                                                                                                                                                                                                                                           1\n",
      "Name: count, Length: 81189, dtype: int64\n"
     ]
    }
   ],
   "source": [
    "# 3. Summary Statistics\n",
    "print(\"Summary Statistics:\\n\", df.describe())\n",
    "\n",
    "# For categorical variables\n",
    "print(\"Categorical Value Counts:\\n\")\n",
    "for col in df.select_dtypes(include='object').columns:\n",
    "    print(df[col].value_counts())\n"
   ]
  },
  {
   "cell_type": "code",
   "execution_count": 12,
   "metadata": {},
   "outputs": [],
   "source": [
    "def sanitize_name(name):\n",
    "    \"\"\"Replace invalid characters in a string for file naming.\"\"\"\n",
    "    return name.replace(\"/\", \"_\").replace(\"\\\\\", \"_\").replace(\":\", \"_\").replace(\" \", \"_\").replace(\"?\", \"_\").replace(\"<\", \"_\").replace(\">\", \"_\").replace(\"|\", \"_\")\n",
    "\n",
    "# Create a new DataFrame with sanitized column names\n",
    "sanitized_columns = [sanitize_name(col) for col in df.columns]\n",
    "df.columns = sanitized_columns"
   ]
  },
  {
   "cell_type": "code",
   "execution_count": 13,
   "metadata": {},
   "outputs": [],
   "source": [
    "# 4. Numerical Distribution\n",
    "# Define the directory to save plots\n",
    "output_dir = \"plots/numerical_distributions\"\n",
    "os.makedirs(output_dir, exist_ok=True)  # Create directory if it doesn't exist\n",
    "\n",
    "# Total number of numerical columns to plot\n",
    "numerical_columns = df.select_dtypes(include=np.number).columns\n",
    "num_plots = len(numerical_columns)\n",
    "\n",
    "# Choose the number of columns for the subplot grid (e.g., 3 columns)\n",
    "num_columns = 3\n",
    "\n",
    "# Calculate the number of rows needed (using ceiling to ensure all plots fit)\n",
    "num_rows = math.ceil(num_plots / num_columns)\n",
    "\n",
    "# Loop through each numerical column to create and save plots\n",
    "for i, col in enumerate(numerical_columns, 1):\n",
    "    plt.figure(figsize=(5, 4))  # Single figure per plot\n",
    "\n",
    "    # Check if the column is binary\n",
    "    unique_values = df[col].dropna().unique()\n",
    "    if len(unique_values) == 2:\n",
    "        # Binary variable - use countplot\n",
    "        ax = sns.countplot(x=col, data=df)\n",
    "        plt.title(f'Count of {col}')\n",
    "\n",
    "        # Add count annotations above the bars\n",
    "        for p in ax.patches:  # Loop through each bar\n",
    "            ax.annotate(f'{int(p.get_height())}',  # Get height of the bar (count)\n",
    "                        (p.get_x() + p.get_width() / 2., p.get_height()),  # Positioning the text\n",
    "                        ha='center', va='bottom', fontsize=10)  # Center alignment and adjust font size\n",
    "\n",
    "    else:\n",
    "        # Non-binary variable - use histogram with KDE\n",
    "        sns.histplot(df[col].dropna(), kde=True)\n",
    "        plt.title(f'Distribution of {col}')\n",
    "\n",
    "    # Save the individual plot\n",
    "    filename = f\"{col}_distribution.png\"  # Using sanitized names if applicable\n",
    "    file_path = os.path.join(output_dir, filename)\n",
    "    plt.savefig(file_path, bbox_inches='tight')\n",
    "\n",
    "    plt.close()  # Close the plot after saving to free up memory\n",
    "\n"
   ]
  },
  {
   "cell_type": "code",
   "execution_count": 14,
   "metadata": {},
   "outputs": [],
   "source": [
    "# 5. Detecting Outliers (Box Plot) with variable scales\n",
    "# Define the directory to save plots\n",
    "output_dir = \"plots/boxplots\"\n",
    "os.makedirs(output_dir, exist_ok=True)  # Create directory if it doesn't exist\n",
    "\n",
    "# Total number of numerical columns to plot\n",
    "num_plots = len(df.select_dtypes(include=np.number).columns)\n",
    "\n",
    "# Choose the number of columns for the subplot grid (e.g., 3 columns)\n",
    "num_columns = 3\n",
    "\n",
    "# Calculate the number of rows needed\n",
    "num_rows = math.ceil(num_plots / num_columns)\n",
    "\n",
    "# Loop through each numerical column to create and save plots\n",
    "for i, col in enumerate(df.select_dtypes(include=np.number).columns, 1):\n",
    "    plt.figure(figsize=(5, 4))  # Initialize a new figure for each plot\n",
    "\n",
    "    # Create box plot with independent linear scale\n",
    "    sns.boxplot(data=df, y=col)\n",
    "    plt.yscale('linear')  # Sets a linear scale\n",
    "    plt.title(f'Distribution of {col}')\n",
    "\n",
    "    # Save the individual plot\n",
    "    filename = f\"{col}_boxplot.png\"\n",
    "    file_path = os.path.join(output_dir, filename)\n",
    "    plt.savefig(file_path, bbox_inches='tight')\n",
    "\n",
    "    plt.close()  # Close the plot after saving to free up memory\n",
    "\n"
   ]
  },
  {
   "cell_type": "code",
   "execution_count": 15,
   "metadata": {},
   "outputs": [],
   "source": [
    "# 6. Correlation Matrix\n",
    "# Define the directory to save the plot\n",
    "output_dir = \"plots/heatmaps\"\n",
    "os.makedirs(output_dir, exist_ok=True)  # Create directory if it doesn't exist\n",
    "\n",
    "# Select only numerical columns\n",
    "numerical_df = df.select_dtypes(include='number')\n",
    "\n",
    "# Plot the correlation matrix heatmap\n",
    "plt.figure(figsize=(10, 8))\n",
    "correlation_matrix = numerical_df.corr()  # Compute correlation matrix for numerical columns\n",
    "sns.heatmap(correlation_matrix, annot=True, cmap='coolwarm', fmt='.2f')\n",
    "plt.title(\"Correlation Matrix of Numerical Features\")\n",
    "\n",
    "# Save the heatmap plot\n",
    "file_path = os.path.join(output_dir, \"correlation_matrix_heatmap.png\")\n",
    "plt.savefig(file_path, bbox_inches='tight')\n",
    "\n",
    "plt.close()  # Close the plot to free up memory\n"
   ]
  }
 ],
 "metadata": {
  "kernelspec": {
   "display_name": "Python 3 (ipykernel)",
   "language": "python",
   "name": "python3"
  },
  "language_info": {
   "codemirror_mode": {
    "name": "ipython",
    "version": 3
   },
   "file_extension": ".py",
   "mimetype": "text/x-python",
   "name": "python",
   "nbconvert_exporter": "python",
   "pygments_lexer": "ipython3",
   "version": "3.10.13"
  }
 },
 "nbformat": 4,
 "nbformat_minor": 4
}
